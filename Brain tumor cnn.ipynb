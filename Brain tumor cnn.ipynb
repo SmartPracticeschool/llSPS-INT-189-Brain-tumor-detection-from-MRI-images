{
 "cells": [
  {
   "cell_type": "raw",
   "metadata": {},
   "source": [
    "steps:\n",
    "1.import the libraries\n",
    "2.initialise the model-sequential model\n",
    "3.add the convolution 2d layer-(size of image,how many feature detector u hav 2 use,size of feature detector(3*3,5*5,7*7))(relu)\n",
    "4.add maxpooling layer-(size of maxpooling layer)\n",
    "5.add flattening layer-(empty)-this is input layer for ann\n",
    "6.add hidden layer of ann-(dimensions,activation function,weights initialisation(init))\n",
    "7.add output layer of cnn-(dimensions=1(binary);5(based od the classes u take outputs will be changing),activation function=softmax(5);(sigmoid,threshold or sthelse(1),weight initialisation)\n",
    "8.import the dataset\n",
    "9.u have to apply image preprocessing techniques\n",
    "10.compile-(metrics=['accuracy'],loss=binary_cross entropy or categorical_cross entropy,optimizer)\n",
    "11.fit (x,y epochs)\n",
    "12.predict\n",
    "13.save the model"
   ]
  },
  {
   "cell_type": "code",
   "execution_count": 1,
   "metadata": {},
   "outputs": [
    {
     "name": "stderr",
     "output_type": "stream",
     "text": [
      "Using TensorFlow backend.\n",
      "C:\\Users\\Nikhila Parimi\\anaconda3\\lib\\site-packages\\tensorflow\\python\\framework\\dtypes.py:516: FutureWarning: Passing (type, 1) or '1type' as a synonym of type is deprecated; in a future version of numpy, it will be understood as (type, (1,)) / '(1,)type'.\n",
      "  _np_qint8 = np.dtype([(\"qint8\", np.int8, 1)])\n",
      "C:\\Users\\Nikhila Parimi\\anaconda3\\lib\\site-packages\\tensorflow\\python\\framework\\dtypes.py:517: FutureWarning: Passing (type, 1) or '1type' as a synonym of type is deprecated; in a future version of numpy, it will be understood as (type, (1,)) / '(1,)type'.\n",
      "  _np_quint8 = np.dtype([(\"quint8\", np.uint8, 1)])\n",
      "C:\\Users\\Nikhila Parimi\\anaconda3\\lib\\site-packages\\tensorflow\\python\\framework\\dtypes.py:518: FutureWarning: Passing (type, 1) or '1type' as a synonym of type is deprecated; in a future version of numpy, it will be understood as (type, (1,)) / '(1,)type'.\n",
      "  _np_qint16 = np.dtype([(\"qint16\", np.int16, 1)])\n",
      "C:\\Users\\Nikhila Parimi\\anaconda3\\lib\\site-packages\\tensorflow\\python\\framework\\dtypes.py:519: FutureWarning: Passing (type, 1) or '1type' as a synonym of type is deprecated; in a future version of numpy, it will be understood as (type, (1,)) / '(1,)type'.\n",
      "  _np_quint16 = np.dtype([(\"quint16\", np.uint16, 1)])\n",
      "C:\\Users\\Nikhila Parimi\\anaconda3\\lib\\site-packages\\tensorflow\\python\\framework\\dtypes.py:520: FutureWarning: Passing (type, 1) or '1type' as a synonym of type is deprecated; in a future version of numpy, it will be understood as (type, (1,)) / '(1,)type'.\n",
      "  _np_qint32 = np.dtype([(\"qint32\", np.int32, 1)])\n",
      "C:\\Users\\Nikhila Parimi\\anaconda3\\lib\\site-packages\\tensorflow\\python\\framework\\dtypes.py:525: FutureWarning: Passing (type, 1) or '1type' as a synonym of type is deprecated; in a future version of numpy, it will be understood as (type, (1,)) / '(1,)type'.\n",
      "  np_resource = np.dtype([(\"resource\", np.ubyte, 1)])\n",
      "C:\\Users\\Nikhila Parimi\\anaconda3\\lib\\site-packages\\tensorboard\\compat\\tensorflow_stub\\dtypes.py:541: FutureWarning: Passing (type, 1) or '1type' as a synonym of type is deprecated; in a future version of numpy, it will be understood as (type, (1,)) / '(1,)type'.\n",
      "  _np_qint8 = np.dtype([(\"qint8\", np.int8, 1)])\n",
      "C:\\Users\\Nikhila Parimi\\anaconda3\\lib\\site-packages\\tensorboard\\compat\\tensorflow_stub\\dtypes.py:542: FutureWarning: Passing (type, 1) or '1type' as a synonym of type is deprecated; in a future version of numpy, it will be understood as (type, (1,)) / '(1,)type'.\n",
      "  _np_quint8 = np.dtype([(\"quint8\", np.uint8, 1)])\n",
      "C:\\Users\\Nikhila Parimi\\anaconda3\\lib\\site-packages\\tensorboard\\compat\\tensorflow_stub\\dtypes.py:543: FutureWarning: Passing (type, 1) or '1type' as a synonym of type is deprecated; in a future version of numpy, it will be understood as (type, (1,)) / '(1,)type'.\n",
      "  _np_qint16 = np.dtype([(\"qint16\", np.int16, 1)])\n",
      "C:\\Users\\Nikhila Parimi\\anaconda3\\lib\\site-packages\\tensorboard\\compat\\tensorflow_stub\\dtypes.py:544: FutureWarning: Passing (type, 1) or '1type' as a synonym of type is deprecated; in a future version of numpy, it will be understood as (type, (1,)) / '(1,)type'.\n",
      "  _np_quint16 = np.dtype([(\"quint16\", np.uint16, 1)])\n",
      "C:\\Users\\Nikhila Parimi\\anaconda3\\lib\\site-packages\\tensorboard\\compat\\tensorflow_stub\\dtypes.py:545: FutureWarning: Passing (type, 1) or '1type' as a synonym of type is deprecated; in a future version of numpy, it will be understood as (type, (1,)) / '(1,)type'.\n",
      "  _np_qint32 = np.dtype([(\"qint32\", np.int32, 1)])\n",
      "C:\\Users\\Nikhila Parimi\\anaconda3\\lib\\site-packages\\tensorboard\\compat\\tensorflow_stub\\dtypes.py:550: FutureWarning: Passing (type, 1) or '1type' as a synonym of type is deprecated; in a future version of numpy, it will be understood as (type, (1,)) / '(1,)type'.\n",
      "  np_resource = np.dtype([(\"resource\", np.ubyte, 1)])\n"
     ]
    }
   ],
   "source": [
    "#import the libraries\n",
    "from keras.models import Sequential\n",
    "from keras.layers import Dense\n",
    "from keras.layers import Convolution2D\n",
    "from keras.layers import MaxPooling2D\n",
    "from keras.layers import Flatten"
   ]
  },
  {
   "cell_type": "code",
   "execution_count": 2,
   "metadata": {},
   "outputs": [
    {
     "name": "stdout",
     "output_type": "stream",
     "text": [
      "WARNING:tensorflow:From C:\\Users\\Nikhila Parimi\\anaconda3\\lib\\site-packages\\keras\\backend\\tensorflow_backend.py:74: The name tf.get_default_graph is deprecated. Please use tf.compat.v1.get_default_graph instead.\n",
      "\n"
     ]
    }
   ],
   "source": [
    "#initialise the model\n",
    "model=Sequential()"
   ]
  },
  {
   "cell_type": "code",
   "execution_count": 3,
   "metadata": {},
   "outputs": [
    {
     "name": "stdout",
     "output_type": "stream",
     "text": [
      "WARNING:tensorflow:From C:\\Users\\Nikhila Parimi\\anaconda3\\lib\\site-packages\\keras\\backend\\tensorflow_backend.py:517: The name tf.placeholder is deprecated. Please use tf.compat.v1.placeholder instead.\n",
      "\n",
      "WARNING:tensorflow:From C:\\Users\\Nikhila Parimi\\anaconda3\\lib\\site-packages\\keras\\backend\\tensorflow_backend.py:4138: The name tf.random_uniform is deprecated. Please use tf.random.uniform instead.\n",
      "\n"
     ]
    }
   ],
   "source": [
    "#add convolution 2D layer\n",
    "model.add(Convolution2D(32,(3,3),input_shape = (64,64,3),activation = 'relu'))"
   ]
  },
  {
   "cell_type": "code",
   "execution_count": 4,
   "metadata": {},
   "outputs": [
    {
     "name": "stdout",
     "output_type": "stream",
     "text": [
      "WARNING:tensorflow:From C:\\Users\\Nikhila Parimi\\anaconda3\\lib\\site-packages\\keras\\backend\\tensorflow_backend.py:3976: The name tf.nn.max_pool is deprecated. Please use tf.nn.max_pool2d instead.\n",
      "\n"
     ]
    }
   ],
   "source": [
    "#add maxpooling layer\n",
    "model.add(MaxPooling2D(pool_size = (2,2)))\n",
    "#if activation fn is not mentioned defultly it is relu"
   ]
  },
  {
   "cell_type": "code",
   "execution_count": 5,
   "metadata": {},
   "outputs": [],
   "source": [
    "#add flatten layer\n",
    "model.add(Flatten())\n",
    "#output from flatten layer is input to ann"
   ]
  },
  {
   "cell_type": "code",
   "execution_count": 6,
   "metadata": {},
   "outputs": [
    {
     "name": "stderr",
     "output_type": "stream",
     "text": [
      "C:\\Users\\Nikhila Parimi\\anaconda3\\lib\\site-packages\\ipykernel_launcher.py:2: UserWarning: Update your `Dense` call to the Keras 2 API: `Dense(activation=\"relu\", units=128, kernel_initializer=\"uniform\")`\n",
      "  \n"
     ]
    }
   ],
   "source": [
    "#add hidden layer\n",
    "model.add(Dense(output_dim = 128,init='uniform',activation='relu'))\n",
    "#units or output_dim"
   ]
  },
  {
   "cell_type": "code",
   "execution_count": 7,
   "metadata": {},
   "outputs": [
    {
     "name": "stderr",
     "output_type": "stream",
     "text": [
      "C:\\Users\\Nikhila Parimi\\anaconda3\\lib\\site-packages\\ipykernel_launcher.py:2: UserWarning: Update your `Dense` call to the Keras 2 API: `Dense(activation=\"sigmoid\", units=1, kernel_initializer=\"uniform\")`\n",
      "  \n"
     ]
    }
   ],
   "source": [
    "#add output layer\n",
    "model.add(Dense(output_dim=1,activation = 'sigmoid',init='uniform'))"
   ]
  },
  {
   "cell_type": "code",
   "execution_count": 8,
   "metadata": {},
   "outputs": [],
   "source": [
    "from keras.preprocessing.image import ImageDataGenerator#gives augmentation(extra facilities to entities) to dataset\n",
    "train_datagen = ImageDataGenerator(rescale=1./255,shear_range=0.2,zoom_range=0.2,horizontal_flip=True)\n",
    "test_datagen = ImageDataGenerator(rescale = 1./255)"
   ]
  },
  {
   "cell_type": "code",
   "execution_count": 9,
   "metadata": {},
   "outputs": [
    {
     "name": "stdout",
     "output_type": "stream",
     "text": [
      "Found 253 images belonging to 2 classes.\n",
      "Found 70 images belonging to 2 classes.\n"
     ]
    }
   ],
   "source": [
    "#importing dataset\n",
    "x_train = train_datagen.flow_from_directory(r'F:\\pythonbasics\\dataset\\brain_tumor_dataset\\trainset',target_size=(64,64),batch_size=32,class_mode='binary')\n",
    "x_test = test_datagen.flow_from_directory(r'F:\\pythonbasics\\dataset\\brain_tumor_dataset\\testset',target_size=(64,64),batch_size=32,class_mode='binary')"
   ]
  },
  {
   "cell_type": "code",
   "execution_count": 10,
   "metadata": {},
   "outputs": [
    {
     "name": "stdout",
     "output_type": "stream",
     "text": [
      "{'no': 0, 'yes': 1}\n"
     ]
    }
   ],
   "source": [
    "#class indices\n",
    "print(x_train.class_indices)\n",
    "#done in alphabetical order"
   ]
  },
  {
   "cell_type": "code",
   "execution_count": 11,
   "metadata": {},
   "outputs": [
    {
     "name": "stdout",
     "output_type": "stream",
     "text": [
      "WARNING:tensorflow:From C:\\Users\\Nikhila Parimi\\anaconda3\\lib\\site-packages\\keras\\optimizers.py:790: The name tf.train.Optimizer is deprecated. Please use tf.compat.v1.train.Optimizer instead.\n",
      "\n",
      "WARNING:tensorflow:From C:\\Users\\Nikhila Parimi\\anaconda3\\lib\\site-packages\\keras\\backend\\tensorflow_backend.py:3376: The name tf.log is deprecated. Please use tf.math.log instead.\n",
      "\n",
      "WARNING:tensorflow:From C:\\Users\\Nikhila Parimi\\anaconda3\\lib\\site-packages\\tensorflow\\python\\ops\\nn_impl.py:180: add_dispatch_support.<locals>.wrapper (from tensorflow.python.ops.array_ops) is deprecated and will be removed in a future version.\n",
      "Instructions for updating:\n",
      "Use tf.where in 2.0, which has the same broadcast rule as np.where\n"
     ]
    }
   ],
   "source": [
    "#compiling the model\n",
    "model.compile(loss = 'binary_crossentropy',optimizer = \"adam\",metrics = [\"accuracy\"])"
   ]
  },
  {
   "cell_type": "code",
   "execution_count": 17,
   "metadata": {},
   "outputs": [
    {
     "name": "stdout",
     "output_type": "stream",
     "text": [
      "Epoch 1/50\n",
      "10/10 [==============================] - 2s 219ms/step - loss: 0.4773 - acc: 0.7608 - val_loss: 0.5425 - val_acc: 0.7286\n",
      "Epoch 2/50\n",
      "10/10 [==============================] - 2s 214ms/step - loss: 0.4320 - acc: 0.8161 - val_loss: 0.3449 - val_acc: 0.9000\n",
      "Epoch 3/50\n",
      "10/10 [==============================] - 2s 213ms/step - loss: 0.3784 - acc: 0.8390 - val_loss: 0.3666 - val_acc: 0.7857\n",
      "Epoch 4/50\n",
      "10/10 [==============================] - 2s 212ms/step - loss: 0.3431 - acc: 0.8453 - val_loss: 0.4490 - val_acc: 0.6571\n",
      "Epoch 5/50\n",
      "10/10 [==============================] - 2s 208ms/step - loss: 0.3967 - acc: 0.8325 - val_loss: 0.3639 - val_acc: 0.8714\n",
      "Epoch 6/50\n",
      "10/10 [==============================] - 2s 220ms/step - loss: 0.3654 - acc: 0.8414 - val_loss: 0.2390 - val_acc: 0.9000\n",
      "Epoch 7/50\n",
      "10/10 [==============================] - 2s 212ms/step - loss: 0.3122 - acc: 0.8896 - val_loss: 0.3029 - val_acc: 0.8571\n",
      "Epoch 8/50\n",
      "10/10 [==============================] - 2s 210ms/step - loss: 0.3409 - acc: 0.8706 - val_loss: 0.3515 - val_acc: 0.8000\n",
      "Epoch 9/50\n",
      "10/10 [==============================] - 2s 217ms/step - loss: 0.3585 - acc: 0.8524 - val_loss: 0.2916 - val_acc: 0.8286\n",
      "Epoch 10/50\n",
      "10/10 [==============================] - 2s 205ms/step - loss: 0.3895 - acc: 0.8106 - val_loss: 0.3305 - val_acc: 0.9000\n",
      "Epoch 11/50\n",
      "10/10 [==============================] - 2s 208ms/step - loss: 0.3316 - acc: 0.8524 - val_loss: 0.2274 - val_acc: 0.9571\n",
      "Epoch 12/50\n",
      "10/10 [==============================] - 2s 212ms/step - loss: 0.2757 - acc: 0.8962 - val_loss: 0.3299 - val_acc: 0.8571\n",
      "Epoch 13/50\n",
      "10/10 [==============================] - 2s 207ms/step - loss: 0.2522 - acc: 0.9081 - val_loss: 0.1497 - val_acc: 0.9714\n",
      "Epoch 14/50\n",
      "10/10 [==============================] - 2s 213ms/step - loss: 0.2925 - acc: 0.8884 - val_loss: 0.3690 - val_acc: 0.8571\n",
      "Epoch 15/50\n",
      "10/10 [==============================] - 2s 204ms/step - loss: 0.3038 - acc: 0.8734 - val_loss: 0.1605 - val_acc: 0.9429\n",
      "Epoch 16/50\n",
      "10/10 [==============================] - 2s 225ms/step - loss: 0.3019 - acc: 0.8837 - val_loss: 0.2761 - val_acc: 0.9000\n",
      "Epoch 17/50\n",
      "10/10 [==============================] - 2s 213ms/step - loss: 0.2778 - acc: 0.8894 - val_loss: 0.2096 - val_acc: 0.9143\n",
      "Epoch 18/50\n",
      "10/10 [==============================] - 2s 208ms/step - loss: 0.2789 - acc: 0.8912 - val_loss: 0.1390 - val_acc: 0.9714\n",
      "Epoch 19/50\n",
      "10/10 [==============================] - 2s 212ms/step - loss: 0.2201 - acc: 0.8956 - val_loss: 0.2035 - val_acc: 0.9429\n",
      "Epoch 20/50\n",
      "10/10 [==============================] - 2s 210ms/step - loss: 0.2834 - acc: 0.8922 - val_loss: 0.1485 - val_acc: 0.9714\n",
      "Epoch 21/50\n",
      "10/10 [==============================] - 2s 210ms/step - loss: 0.2234 - acc: 0.8990 - val_loss: 0.2843 - val_acc: 0.8143\n",
      "Epoch 22/50\n",
      "10/10 [==============================] - 2s 221ms/step - loss: 0.2453 - acc: 0.9021 - val_loss: 0.2266 - val_acc: 0.8857\n",
      "Epoch 23/50\n",
      "10/10 [==============================] - 2s 212ms/step - loss: 0.2445 - acc: 0.9016 - val_loss: 0.1832 - val_acc: 0.9286\n",
      "Epoch 24/50\n",
      "10/10 [==============================] - 2s 205ms/step - loss: 0.2024 - acc: 0.9281 - val_loss: 0.1519 - val_acc: 0.9571\n",
      "Epoch 25/50\n",
      "10/10 [==============================] - 2s 212ms/step - loss: 0.2554 - acc: 0.8950 - val_loss: 0.1261 - val_acc: 0.9714\n",
      "Epoch 26/50\n",
      "10/10 [==============================] - 2s 208ms/step - loss: 0.2075 - acc: 0.9237 - val_loss: 0.1230 - val_acc: 0.9857\n",
      "Epoch 27/50\n",
      "10/10 [==============================] - 2s 209ms/step - loss: 0.2001 - acc: 0.9246 - val_loss: 0.0842 - val_acc: 0.9857\n",
      "Epoch 28/50\n",
      "10/10 [==============================] - 2s 208ms/step - loss: 0.1589 - acc: 0.9434 - val_loss: 0.1087 - val_acc: 0.9571\n",
      "Epoch 29/50\n",
      "10/10 [==============================] - 2s 217ms/step - loss: 0.2091 - acc: 0.9090 - val_loss: 0.1098 - val_acc: 0.9857\n",
      "Epoch 30/50\n",
      "10/10 [==============================] - 2s 206ms/step - loss: 0.2033 - acc: 0.9046 - val_loss: 0.0948 - val_acc: 0.9714\n",
      "Epoch 31/50\n",
      "10/10 [==============================] - 2s 209ms/step - loss: 0.2064 - acc: 0.9118 - val_loss: 0.0726 - val_acc: 1.0000\n",
      "Epoch 32/50\n",
      "10/10 [==============================] - 2s 220ms/step - loss: 0.1583 - acc: 0.9403 - val_loss: 0.0841 - val_acc: 0.9857\n",
      "Epoch 33/50\n",
      "10/10 [==============================] - 2s 209ms/step - loss: 0.1950 - acc: 0.9112 - val_loss: 0.0782 - val_acc: 0.9714\n",
      "Epoch 34/50\n",
      "10/10 [==============================] - 2s 217ms/step - loss: 0.2149 - acc: 0.9049 - val_loss: 0.0629 - val_acc: 0.9857\n",
      "Epoch 35/50\n",
      "10/10 [==============================] - 2s 215ms/step - loss: 0.2201 - acc: 0.9027 - val_loss: 0.0602 - val_acc: 1.0000\n",
      "Epoch 36/50\n",
      "10/10 [==============================] - 2s 214ms/step - loss: 0.1960 - acc: 0.9090 - val_loss: 0.0887 - val_acc: 0.9571\n",
      "Epoch 37/50\n",
      "10/10 [==============================] - 2s 208ms/step - loss: 0.1718 - acc: 0.9434 - val_loss: 0.1441 - val_acc: 0.9286\n",
      "Epoch 38/50\n",
      "10/10 [==============================] - 2s 213ms/step - loss: 0.1929 - acc: 0.9334 - val_loss: 0.0275 - val_acc: 1.0000\n",
      "Epoch 39/50\n",
      "10/10 [==============================] - 2s 213ms/step - loss: 0.1767 - acc: 0.9400 - val_loss: 0.2224 - val_acc: 0.9000\n",
      "Epoch 40/50\n",
      "10/10 [==============================] - 2s 208ms/step - loss: 0.1711 - acc: 0.9303 - val_loss: 0.0791 - val_acc: 0.9429\n",
      "Epoch 41/50\n",
      "10/10 [==============================] - 2s 218ms/step - loss: 0.1654 - acc: 0.9497 - val_loss: 0.0694 - val_acc: 0.9857\n",
      "Epoch 42/50\n",
      "10/10 [==============================] - 2s 215ms/step - loss: 0.1258 - acc: 0.9525 - val_loss: 0.0869 - val_acc: 0.9714\n",
      "Epoch 43/50\n",
      "10/10 [==============================] - 2s 217ms/step - loss: 0.1774 - acc: 0.9300 - val_loss: 0.1121 - val_acc: 0.9571\n",
      "Epoch 44/50\n",
      "10/10 [==============================] - 2s 207ms/step - loss: 0.1974 - acc: 0.9312 - val_loss: 0.0478 - val_acc: 0.9857\n",
      "Epoch 45/50\n",
      "10/10 [==============================] - 2s 218ms/step - loss: 0.1288 - acc: 0.9434 - val_loss: 0.0460 - val_acc: 1.0000\n",
      "Epoch 46/50\n",
      "10/10 [==============================] - 2s 210ms/step - loss: 0.1226 - acc: 0.9556 - val_loss: 0.0536 - val_acc: 0.9714\n",
      "Epoch 47/50\n",
      "10/10 [==============================] - 2s 212ms/step - loss: 0.1196 - acc: 0.9522 - val_loss: 0.0318 - val_acc: 1.0000\n",
      "Epoch 48/50\n",
      "10/10 [==============================] - 2s 218ms/step - loss: 0.0982 - acc: 0.9681 - val_loss: 0.0552 - val_acc: 0.9714\n",
      "Epoch 49/50\n",
      "10/10 [==============================] - 2s 214ms/step - loss: 0.1214 - acc: 0.9559 - val_loss: 0.0262 - val_acc: 1.0000\n",
      "Epoch 50/50\n",
      "10/10 [==============================] - 2s 210ms/step - loss: 0.0826 - acc: 0.9778 - val_loss: 0.0528 - val_acc: 0.9857\n"
     ]
    },
    {
     "data": {
      "text/plain": [
       "<keras.callbacks.History at 0x1d288ffebc8>"
      ]
     },
     "execution_count": 17,
     "metadata": {},
     "output_type": "execute_result"
    }
   ],
   "source": [
    "#fitting the model\n",
    "model.fit_generator(x_train,steps_per_epoch = 10,epochs = 50,validation_data = x_test,validation_steps = 3)\n",
    "#250 is train imagesdivided by batchsize\n",
    "#for every 1 epoch 250 images are trained\n",
    "#training nd testing takes place at a time\n",
    "#for every epoch based on these 2 values accuracy is calculated\n",
    "#for every epoch how many images need to be tested (63) i.e,testimages divides by batchsize\n",
    "#for every 1 epoch 250 images should be trained and 63 images shud be tested"
   ]
  },
  {
   "cell_type": "code",
   "execution_count": 18,
   "metadata": {},
   "outputs": [],
   "source": [
    "model.save(\"brain.h5\")\n",
    "#h5 is used to save keras models"
   ]
  },
  {
   "cell_type": "code",
   "execution_count": null,
   "metadata": {},
   "outputs": [],
   "source": []
  }
 ],
 "metadata": {
  "kernelspec": {
   "display_name": "Python 3",
   "language": "python",
   "name": "python3"
  },
  "language_info": {
   "codemirror_mode": {
    "name": "ipython",
    "version": 3
   },
   "file_extension": ".py",
   "mimetype": "text/x-python",
   "name": "python",
   "nbconvert_exporter": "python",
   "pygments_lexer": "ipython3",
   "version": "3.7.6"
  }
 },
 "nbformat": 4,
 "nbformat_minor": 4
}
